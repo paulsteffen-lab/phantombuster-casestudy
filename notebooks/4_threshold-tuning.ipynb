{
 "cells": [
  {
   "cell_type": "code",
   "execution_count": 1,
   "id": "9b27f83d-89c0-4635-93fb-0d71a390720c",
   "metadata": {},
   "outputs": [],
   "source": [
    "import pandas as pd\n",
    "import numpy as np\n",
    "from sklearn.pipeline import Pipeline\n",
    "from sklearn.model_selection import StratifiedKFold\n",
    "from sklearn.calibration import CalibratedClassifierCV\n",
    "from sklearn.frozen import FrozenEstimator\n",
    "from sklearn.ensemble import HistGradientBoostingClassifier\n",
    "from sklearn.metrics import fbeta_score\n",
    "from skrub import ToCategorical, MinHashEncoder, TableVectorizer\n",
    "\n",
    "from churn_classification_engine.config import settings"
   ]
  },
  {
   "cell_type": "code",
   "execution_count": 2,
   "id": "2e509291-0fe2-4c3e-9156-4000a7325182",
   "metadata": {},
   "outputs": [],
   "source": [
    "DATA_PATH = \"..\" / settings.data_dir / \"train.csv\"\n",
    "\n",
    "TARGET: str = \"CHURN\""
   ]
  },
  {
   "cell_type": "code",
   "execution_count": 3,
   "id": "f64fd4cc-f872-44fd-8392-d8e9e6a906b5",
   "metadata": {},
   "outputs": [],
   "source": [
    "df = pd.read_csv(DATA_PATH, index_col=\"CUSTOMER_ID\")"
   ]
  },
  {
   "cell_type": "code",
   "execution_count": 4,
   "id": "f787b326-d162-4ad4-af71-851ba4e42bd4",
   "metadata": {},
   "outputs": [
    {
     "data": {
      "text/html": [
       "<div>\n",
       "<style scoped>\n",
       "    .dataframe tbody tr th:only-of-type {\n",
       "        vertical-align: middle;\n",
       "    }\n",
       "\n",
       "    .dataframe tbody tr th {\n",
       "        vertical-align: top;\n",
       "    }\n",
       "\n",
       "    .dataframe thead th {\n",
       "        text-align: right;\n",
       "    }\n",
       "</style>\n",
       "<table border=\"1\" class=\"dataframe\">\n",
       "  <thead>\n",
       "    <tr style=\"text-align: right;\">\n",
       "      <th></th>\n",
       "      <th>COUNTRY_CODE</th>\n",
       "      <th>PLAN_AGE</th>\n",
       "      <th>ACTIVITY_DAY_COUNT</th>\n",
       "      <th>SUPPORT_TICKET_COUNT</th>\n",
       "      <th>DELINQUENCY_DAY_COUNT</th>\n",
       "      <th>PLAN_NAME</th>\n",
       "      <th>BILLING_PERIOD</th>\n",
       "      <th>CURRENCY</th>\n",
       "      <th>MONTHLY_PAYMENT_AMOUNT</th>\n",
       "      <th>DAYS_SINCE_LAST_LOGIN</th>\n",
       "      <th>CHURN</th>\n",
       "    </tr>\n",
       "    <tr>\n",
       "      <th>CUSTOMER_ID</th>\n",
       "      <th></th>\n",
       "      <th></th>\n",
       "      <th></th>\n",
       "      <th></th>\n",
       "      <th></th>\n",
       "      <th></th>\n",
       "      <th></th>\n",
       "      <th></th>\n",
       "      <th></th>\n",
       "      <th></th>\n",
       "      <th></th>\n",
       "    </tr>\n",
       "  </thead>\n",
       "  <tbody>\n",
       "    <tr>\n",
       "      <th>114383</th>\n",
       "      <td>ES</td>\n",
       "      <td>11</td>\n",
       "      <td>NaN</td>\n",
       "      <td>NaN</td>\n",
       "      <td>NaN</td>\n",
       "      <td>Starter</td>\n",
       "      <td>month</td>\n",
       "      <td>USD</td>\n",
       "      <td>70</td>\n",
       "      <td>NaN</td>\n",
       "      <td>0</td>\n",
       "    </tr>\n",
       "    <tr>\n",
       "      <th>116777</th>\n",
       "      <td>GB</td>\n",
       "      <td>7</td>\n",
       "      <td>NaN</td>\n",
       "      <td>NaN</td>\n",
       "      <td>NaN</td>\n",
       "      <td>Pro</td>\n",
       "      <td>month</td>\n",
       "      <td>USD</td>\n",
       "      <td>160</td>\n",
       "      <td>NaN</td>\n",
       "      <td>0</td>\n",
       "    </tr>\n",
       "    <tr>\n",
       "      <th>106515</th>\n",
       "      <td>US</td>\n",
       "      <td>21</td>\n",
       "      <td>NaN</td>\n",
       "      <td>NaN</td>\n",
       "      <td>NaN</td>\n",
       "      <td>Pro</td>\n",
       "      <td>year</td>\n",
       "      <td>USD</td>\n",
       "      <td>110</td>\n",
       "      <td>NaN</td>\n",
       "      <td>0</td>\n",
       "    </tr>\n",
       "    <tr>\n",
       "      <th>148924</th>\n",
       "      <td>DE</td>\n",
       "      <td>3</td>\n",
       "      <td>NaN</td>\n",
       "      <td>NaN</td>\n",
       "      <td>NaN</td>\n",
       "      <td>Starter</td>\n",
       "      <td>month</td>\n",
       "      <td>EUR</td>\n",
       "      <td>75</td>\n",
       "      <td>NaN</td>\n",
       "      <td>1</td>\n",
       "    </tr>\n",
       "    <tr>\n",
       "      <th>193586</th>\n",
       "      <td>FR</td>\n",
       "      <td>1</td>\n",
       "      <td>13.0</td>\n",
       "      <td>NaN</td>\n",
       "      <td>1.0</td>\n",
       "      <td>Starter</td>\n",
       "      <td>month</td>\n",
       "      <td>EUR</td>\n",
       "      <td>75</td>\n",
       "      <td>0.0</td>\n",
       "      <td>0</td>\n",
       "    </tr>\n",
       "  </tbody>\n",
       "</table>\n",
       "</div>"
      ],
      "text/plain": [
       "            COUNTRY_CODE  PLAN_AGE  ACTIVITY_DAY_COUNT  SUPPORT_TICKET_COUNT  \\\n",
       "CUSTOMER_ID                                                                    \n",
       "114383                ES        11                 NaN                   NaN   \n",
       "116777                GB         7                 NaN                   NaN   \n",
       "106515                US        21                 NaN                   NaN   \n",
       "148924                DE         3                 NaN                   NaN   \n",
       "193586                FR         1                13.0                   NaN   \n",
       "\n",
       "             DELINQUENCY_DAY_COUNT PLAN_NAME BILLING_PERIOD CURRENCY  \\\n",
       "CUSTOMER_ID                                                            \n",
       "114383                         NaN   Starter          month      USD   \n",
       "116777                         NaN       Pro          month      USD   \n",
       "106515                         NaN       Pro           year      USD   \n",
       "148924                         NaN   Starter          month      EUR   \n",
       "193586                         1.0   Starter          month      EUR   \n",
       "\n",
       "             MONTHLY_PAYMENT_AMOUNT  DAYS_SINCE_LAST_LOGIN  CHURN  \n",
       "CUSTOMER_ID                                                        \n",
       "114383                           70                    NaN      0  \n",
       "116777                          160                    NaN      0  \n",
       "106515                          110                    NaN      0  \n",
       "148924                           75                    NaN      1  \n",
       "193586                           75                    0.0      0  "
      ]
     },
     "execution_count": 4,
     "metadata": {},
     "output_type": "execute_result"
    }
   ],
   "source": [
    "df.head()"
   ]
  },
  {
   "cell_type": "code",
   "execution_count": 5,
   "id": "b7b55c31-7fc7-4d29-98b5-d7af306e5911",
   "metadata": {},
   "outputs": [],
   "source": [
    "X = df.drop(columns=TARGET)\n",
    "y = df[TARGET]"
   ]
  },
  {
   "cell_type": "markdown",
   "id": "64ea56e8-8493-47e4-b699-c04f1ba8a49a",
   "metadata": {},
   "source": [
    "## Threshold tuning\n",
    "\n",
    "By selecting the right threshold based on our application needs, we can significantly improve the model's real-world performance."
   ]
  },
  {
   "cell_type": "code",
   "execution_count": 12,
   "id": "1cc3790c-b7d8-496a-868a-3d93c3e90063",
   "metadata": {},
   "outputs": [
    {
     "name": "stderr",
     "output_type": "stream",
     "text": [
      "/tmp/ipykernel_4450/3307857908.py:37: FutureWarning: The behavior of array concatenation with empty entries is deprecated. In a future version, this will no longer exclude empty items when determining the result dtype. To retain the old behavior, exclude the empty entries before the concat operation.\n",
      "  y_pred = pd.concat([y_pred, pd.Series(fold_y_pred, index=y.iloc[test_index].index)])\n"
     ]
    }
   ],
   "source": [
    "scores = []\n",
    "y_pred = pd.Series()\n",
    "\n",
    "skf = StratifiedKFold(n_splits=5, shuffle=True, random_state=42)\n",
    "for i, (train_index, test_index) in enumerate(skf.split(X, y)):\n",
    "    pipeline = Pipeline(\n",
    "        steps=[\n",
    "            (\n",
    "                \"tablevectorizer\",\n",
    "                TableVectorizer(\n",
    "                    high_cardinality=MinHashEncoder(n_components=35),\n",
    "                    low_cardinality=ToCategorical(),\n",
    "                ),\n",
    "            ),\n",
    "            (\n",
    "                \"histgradientboostingclassifier\",\n",
    "                HistGradientBoostingClassifier(\n",
    "                    class_weight=\"balanced\",\n",
    "                    learning_rate=0.024803608992165237,\n",
    "                    max_iter=146,\n",
    "                    max_depth=12,\n",
    "                    min_samples_leaf=14,\n",
    "                    max_bins=137,\n",
    "                    random_state=42,\n",
    "                ),\n",
    "            ),\n",
    "        ]\n",
    "    )\n",
    "    pipeline.fit(X.iloc[train_index], y.iloc[train_index])\n",
    "\n",
    "    calibrated_pipeline = CalibratedClassifierCV(\n",
    "        FrozenEstimator(pipeline), method=\"sigmoid\"\n",
    "    )\n",
    "    calibrated_pipeline.fit(X.iloc[train_index], y.iloc[train_index])\n",
    "\n",
    "    fold_y_pred = calibrated_pipeline.predict_proba(X.iloc[test_index])[:, 1]\n",
    "    y_pred = pd.concat([y_pred, pd.Series(fold_y_pred, index=y.iloc[test_index].index)])\n",
    "\n",
    "    fold_scores = {}\n",
    "\n",
    "    for t in np.arange(0, 1, 0.05):\n",
    "        fold_scores[t] = fbeta_score(y.iloc[test_index], fold_y_pred >= t, beta=2)\n",
    "    scores.append(fold_scores)"
   ]
  },
  {
   "cell_type": "code",
   "execution_count": 14,
   "id": "bc04b3a0-4f41-4d17-a205-61c5c701ea93",
   "metadata": {},
   "outputs": [
    {
     "data": {
      "text/plain": [
       "0.00    0.484430\n",
       "0.05    0.555506\n",
       "0.10    0.574853\n",
       "0.15    0.563493\n",
       "0.20    0.531698\n",
       "0.25    0.470920\n",
       "0.30    0.407856\n",
       "0.35    0.278476\n",
       "0.40    0.142206\n",
       "0.45    0.060388\n",
       "0.50    0.030160\n",
       "0.55    0.025837\n",
       "0.60    0.023891\n",
       "0.65    0.015869\n",
       "0.70    0.009697\n",
       "0.75    0.003957\n",
       "0.80    0.002250\n",
       "0.85    0.000450\n",
       "0.90    0.000000\n",
       "0.95    0.000000\n",
       "dtype: float64"
      ]
     },
     "execution_count": 14,
     "metadata": {},
     "output_type": "execute_result"
    }
   ],
   "source": [
    "pd.DataFrame(scores).mean()"
   ]
  },
  {
   "cell_type": "markdown",
   "id": "e0b8d940-3d7b-4d77-ab19-3797d70593bc",
   "metadata": {},
   "source": [
    "To maximize our $F_2$**Score**, which  is our north star metric, we have to use a threshold of **.1**."
   ]
  },
  {
   "cell_type": "code",
   "execution_count": 17,
   "id": "6ac548ac-fb59-40d3-a7fa-b864c6f037b2",
   "metadata": {},
   "outputs": [
    {
     "data": {
      "text/plain": [
       "0.5806289881494986"
      ]
     },
     "execution_count": 17,
     "metadata": {},
     "output_type": "execute_result"
    }
   ],
   "source": [
    "(y_pred >= 0.1).mean()"
   ]
  },
  {
   "cell_type": "markdown",
   "id": "1f8041f9-8342-449a-8b43-49cdae4dc90c",
   "metadata": {},
   "source": [
    "Consider more than the half of the dataset as customer at-risk is certainly too big for the Retention team.  \n",
    "Then we can consider several levels of risk, to priorize the retention tasks.  "
   ]
  },
  {
   "cell_type": "code",
   "execution_count": 37,
   "id": "8592224d-3bd1-4a5b-8cdb-d1b1309cb30a",
   "metadata": {},
   "outputs": [
    {
     "name": "stdout",
     "output_type": "stream",
     "text": [
      "Threshold: 0.0\n",
      "Part of churners above this threshold: 0.15819279854147675\n",
      "# of customers above the threshold: 87760\n",
      "======\n",
      "Threshold: 0.05\n",
      "Part of churners above this threshold: 0.20448319181461805\n",
      "# of customers above the threshold: 66069\n",
      "======\n",
      "Threshold: 0.1\n",
      "Part of churners above this threshold: 0.2402661119397127\n",
      "# of customers above the threshold: 50956\n",
      "======\n",
      "Threshold: 0.15000000000000002\n",
      "Part of churners above this threshold: 0.27511483663353486\n",
      "# of customers above the threshold: 38533\n",
      "======\n",
      "Threshold: 0.2\n",
      "Part of churners above this threshold: 0.30301415487094085\n",
      "# of customers above the threshold: 30025\n",
      "======\n",
      "Threshold: 0.25\n",
      "Part of churners above this threshold: 0.3293768545994065\n",
      "# of customers above the threshold: 22242\n",
      "======\n",
      "Threshold: 0.30000000000000004\n",
      "Part of churners above this threshold: 0.35438997952547274\n",
      "# of customers above the threshold: 16606\n",
      "======\n",
      "Threshold: 0.35000000000000003\n",
      "Part of churners above this threshold: 0.3940288713910761\n",
      "# of customers above the threshold: 9144\n",
      "======\n",
      "Threshold: 0.4\n",
      "Part of churners above this threshold: 0.4624896949711459\n",
      "# of customers above the threshold: 3639\n",
      "======\n",
      "Threshold: 0.45\n",
      "Part of churners above this threshold: 0.5563665855636658\n",
      "# of customers above the threshold: 1233\n",
      "======\n",
      "Threshold: 0.5\n",
      "Part of churners above this threshold: 0.6983471074380165\n",
      "# of customers above the threshold: 484\n",
      "======\n",
      "Threshold: 0.55\n",
      "Part of churners above this threshold: 0.7467700258397932\n",
      "# of customers above the threshold: 387\n",
      "======\n",
      "Threshold: 0.6000000000000001\n",
      "Part of churners above this threshold: 0.7852941176470588\n",
      "# of customers above the threshold: 340\n",
      "======\n",
      "Threshold: 0.65\n",
      "Part of churners above this threshold: 0.7763157894736842\n",
      "# of customers above the threshold: 228\n",
      "======\n",
      "Threshold: 0.7000000000000001\n",
      "Part of churners above this threshold: 0.7659574468085106\n",
      "# of customers above the threshold: 141\n",
      "======\n",
      "Threshold: 0.75\n",
      "Part of churners above this threshold: 0.9166666666666666\n",
      "# of customers above the threshold: 48\n",
      "======\n",
      "Threshold: 0.8\n",
      "Part of churners above this threshold: 0.9259259259259259\n",
      "# of customers above the threshold: 27\n",
      "======\n",
      "Threshold: 0.8500000000000001\n",
      "Part of churners above this threshold: 1.0\n",
      "# of customers above the threshold: 5\n",
      "======\n",
      "Threshold: 0.9\n",
      "Part of churners above this threshold: nan\n",
      "# of customers above the threshold: 0\n",
      "======\n",
      "Threshold: 0.9500000000000001\n",
      "Part of churners above this threshold: nan\n",
      "# of customers above the threshold: 0\n",
      "======\n"
     ]
    }
   ],
   "source": [
    "for i in np.arange(0, 1, 0.05):\n",
    "    print(f\"Threshold: {i}\")\n",
    "    mask = y_pred >= i\n",
    "    print(f\"Part of churners above this threshold: {df.loc[mask, 'CHURN'].mean()}\")\n",
    "    print(f\"# of customers above the threshold: {y_pred[mask].shape[0]}\")\n",
    "    print(\"======\")"
   ]
  },
  {
   "cell_type": "markdown",
   "id": "7d2c4fe5-aabd-4265-b5a3-883e8df42f46",
   "metadata": {},
   "source": [
    "**High-risk customers: >=.75**  \n",
    "**Risky customers: >=.5**  \n",
    "**Moderate-risk customers: >= .3**  \n",
    "**Low-risk customers: >= .1**  \n",
    "**No-risk customers: < .1**  "
   ]
  },
  {
   "cell_type": "markdown",
   "id": "697a494c-ff23-4b4d-9856-4c70d136197b",
   "metadata": {},
   "source": [
    "If we suppose that Retention Retention team can only handle 20% of the customer base."
   ]
  },
  {
   "cell_type": "code",
   "execution_count": 19,
   "id": "1e9d3010-5927-4c06-a788-6453712ffa3f",
   "metadata": {},
   "outputs": [
    {
     "name": "stdout",
     "output_type": "stream",
     "text": [
      "Then, we have to take a threshold of 0.29217426861851425\n"
     ]
    }
   ],
   "source": [
    "print(\n",
    "    f\"Then, we have to take a threshold of {y_pred.sort_values(ascending=False).iloc[int(df.shape[0] / 5)]}\"\n",
    ")"
   ]
  },
  {
   "cell_type": "markdown",
   "id": "fae3dd9a-007d-4c00-aad4-614a02198110",
   "metadata": {},
   "source": [
    "To simplify, the Retention team have to consider High-risk, risky and moderate-risk customers"
   ]
  }
 ],
 "metadata": {
  "kernelspec": {
   "display_name": "Python 3 (ipykernel)",
   "language": "python",
   "name": "python3"
  },
  "language_info": {
   "codemirror_mode": {
    "name": "ipython",
    "version": 3
   },
   "file_extension": ".py",
   "mimetype": "text/x-python",
   "name": "python",
   "nbconvert_exporter": "python",
   "pygments_lexer": "ipython3",
   "version": "3.11.11"
  }
 },
 "nbformat": 4,
 "nbformat_minor": 5
}
